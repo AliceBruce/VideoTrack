{
 "cells": [
  {
   "cell_type": "code",
   "execution_count": null,
   "metadata": {},
   "outputs": [],
   "source": [
    "!aws s3 cp --recursive s3://app-hkaa/output/hkaa-object-dection-new-2019-04-25-07-45-00/ output/hkaa-object-dection-new-2019-04-25-07-45-00/ \n",
    "!aws s3 cp --recursive s3://app-hkaa/source-images/ source-images/"
   ]
  },
  {
   "cell_type": "code",
   "execution_count": 2,
   "metadata": {},
   "outputs": [],
   "source": [
    "import time\n",
    "import json\n",
    "import cv2\n",
    "import random\n",
    "import numpy as np\n",
    "from deep_sort import preprocessing\n",
    "from deep_sort import nn_matching\n",
    "from deep_sort.detection import Detection\n",
    "from deep_sort.tracker import Tracker\n",
    "import generate_detections as gdet"
   ]
  },
  {
   "cell_type": "code",
   "execution_count": 3,
   "metadata": {},
   "outputs": [],
   "source": [
    "base_dir = 'source-images/'\n",
    "detections_base_dir = 'output/hkaa-object-dection-new-2019-04-25-07-45-00/'\n",
    "file_names = os.listdir(base_dir)\n",
    "jpg_file_names = []\n",
    "for file_name in file_names:\n",
    "    if file_name.endswith('.jpg'):\n",
    "        jpg_file_names.append(int(file_name.replace('frame', '').replace('.jpg', '')))\n",
    "jpg_file_names = sorted(jpg_file_names)\n",
    "jpg_file_names = ['frame'+str(file_name)+'.jpg' for file_name in jpg_file_names]"
   ]
  },
  {
   "cell_type": "code",
   "execution_count": 4,
   "metadata": {},
   "outputs": [],
   "source": [
    "colors = dict()\n",
    "\n",
    "def visualize_track(img_file, dets, classes=[], thresh=0.6):\n",
    "    \"\"\"\n",
    "    visualize track in one image\n",
    "    Parameters:\n",
    "    ----------\n",
    "    img : numpy.array\n",
    "        image, in bgr format\n",
    "    dets : numpy.array\n",
    "        ssd detections, numpy.array([[id, score, x1, y1, x2, y2]...])\n",
    "        each row is one object\n",
    "    classes : tuple or list of str\n",
    "        class names\n",
    "    thresh : float\n",
    "        score threshold\n",
    "    \"\"\"    \n",
    "\n",
    "    img=cv2.imread(img_file)\n",
    "    global colors\n",
    "    \n",
    "    # x,y,w,h  filter the detection confidence >= thresh.  \n",
    "    boxs = [[int(d[2]*width),int(d[3]*height),int((d[4]-d[2])*width),int((d[5]-d[3])*height)] for d in dets if d[1]>=thresh]\n",
    "\n",
    "    features = encoder(img,boxs)\n",
    "\n",
    "    # score to 1.0 here).\n",
    "    detections = [Detection(bbox, 1.0, feature) for bbox, feature in zip(boxs, features)]\n",
    "    # Run non-maxima suppression.\n",
    "    boxes = np.array([d.tlwh for d in detections])\n",
    "    scores = np.array([d.confidence for d in detections])\n",
    "    indices = preprocessing.non_max_suppression(boxes, nms_max_overlap, scores)\n",
    "    detections = [detections[i] for i in indices]\n",
    "    # Call the tracker\n",
    "    tracker.predict()\n",
    "    tracker.update(detections)\n",
    "    \n",
    "    # visualize the confirmed track\n",
    "    for track in tracker.tracks:\n",
    "        if not track.is_confirmed() or track.time_since_update > 1:\n",
    "            continue \n",
    "        bbox = track.to_tlbr()\n",
    "        track_id = int(track.track_id)\n",
    "        if track_id not in colors:\n",
    "            colors[track_id] = (int(random.random() * 255), int(random.random() * 255), int(random.random() * 255))\n",
    "        cv2.rectangle(img, (int(bbox[0]), int(bbox[1])), (int(bbox[2]), int(bbox[3])),colors[track_id], thickness=3)\n",
    "        cv2.putText(img, str(track.track_id), (int(bbox[0]), int(bbox[1]) - 2), fontFace=cv2.FONT_HERSHEY_SIMPLEX,\n",
    "                    fontScale=2, thickness=3, color=(255, 255, 255))\n",
    "    return img"
   ]
  },
  {
   "cell_type": "code",
   "execution_count": null,
   "metadata": {},
   "outputs": [
    {
     "name": "stdout",
     "output_type": "stream",
     "text": [
      "0 / 7228 0.11783218383789062\n"
     ]
    }
   ],
   "source": [
    "# save_video\n",
    "fps = 30\n",
    "size = (1280, 720)\n",
    "videoWriter = cv2.VideoWriter('vidoeTrack.mp4', cv2.VideoWriter_fourcc('H', '2', '6', '4'), fps, size)\n",
    "cnt = 0\n",
    "start = time.time()\n",
    "\n",
    "# Definition of the parameters\n",
    "max_cosine_distance = 0.3\n",
    "nn_budget = None\n",
    "nms_max_overlap = 1.0\n",
    "\n",
    "# deep_sort \n",
    "model_filename = 'model/mars-small128.pb'\n",
    "encoder = gdet.create_box_encoder(model_filename,batch_size=1)\n",
    "\n",
    "metric = nn_matching.NearestNeighborDistanceMetric(\"cosine\", max_cosine_distance, nn_budget)\n",
    "tracker = Tracker(metric)\n",
    "\n",
    "height = 720\n",
    "width = 1280\n",
    "\n",
    "for file_name in jpg_file_names:\n",
    "    if cnt % 100 == 0:\n",
    "        print(cnt, '/', len(jpg_file_names), time.time()-start)\n",
    "    cnt += 1\n",
    "\n",
    "    detections_file_name = detections_base_dir+file_name+'.out'\n",
    "    file_name = base_dir + file_name\n",
    "\n",
    "    detections = json.load(open(detections_file_name, 'r'))\n",
    "    object_categories = ['hammer', 'truck']\n",
    "    # Setting a threshold 0.20 will only plot detection results that have a confidence score greater than 0.20.\n",
    "    threshold = 0.5\n",
    "\n",
    "    # Visualize the tracks.\n",
    "    try:\n",
    "        frame = visualize_track(file_name, detections['prediction'], object_categories, threshold)\n",
    "    except Exception as e:\n",
    "        print(e)\n",
    "    videoWriter.write(frame)\n",
    "videoWriter.release()"
   ]
  },
  {
   "cell_type": "code",
   "execution_count": null,
   "metadata": {},
   "outputs": [],
   "source": []
  }
 ],
 "metadata": {
  "kernelspec": {
   "display_name": "Python 3",
   "language": "python",
   "name": "python3"
  },
  "language_info": {
   "codemirror_mode": {
    "name": "ipython",
    "version": 3
   },
   "file_extension": ".py",
   "mimetype": "text/x-python",
   "name": "python",
   "nbconvert_exporter": "python",
   "pygments_lexer": "ipython3",
   "version": "3.7.3"
  }
 },
 "nbformat": 4,
 "nbformat_minor": 2
}
